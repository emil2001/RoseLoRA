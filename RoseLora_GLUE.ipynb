{
 "cells": [
  {
   "cell_type": "markdown",
   "id": "9301ae32-666f-4ce6-850d-5a90073a8938",
   "metadata": {},
   "source": [
    "# Предварительный код"
   ]
  },
  {
   "cell_type": "code",
   "execution_count": 1,
   "id": "57c244c1-a444-4b17-a5c1-f42c1c9e767f",
   "metadata": {},
   "outputs": [],
   "source": [
    "import numpy as np\n",
    "import pandas as pd\n",
    "import torch\n",
    "import random\n",
    "import os\n",
    "import lightning as L\n",
    "\n",
    "from torchmetrics.classification import BinaryAccuracy"
   ]
  },
  {
   "cell_type": "code",
   "execution_count": 2,
   "id": "8d58cc8d-2081-4ebb-9dab-4eb59a9b06fa",
   "metadata": {},
   "outputs": [
    {
     "name": "stderr",
     "output_type": "stream",
     "text": [
      "Seed set to 42\n"
     ]
    }
   ],
   "source": [
    "# basic random seed\n",
    "def seed_basic(seed=42):\n",
    "    random.seed(seed)\n",
    "    os.environ[\"PYTHONHASHSEED\"] = str(seed)\n",
    "    np.random.seed(seed)\n",
    "\n",
    "\n",
    "# torch random seed\n",
    "def seed_torch(seed=42):\n",
    "    torch.manual_seed(seed)\n",
    "    torch.cuda.manual_seed(seed)\n",
    "    torch.backends.cudnn.deterministic = True\n",
    "    torch.backends.cudnn.benchmark = False\n",
    "\n",
    "\n",
    "# basic + torch + lightning\n",
    "def seed_everything(seed=42):\n",
    "    seed_basic(seed)\n",
    "    seed_torch(seed)\n",
    "    L.seed_everything(seed)\n",
    "\n",
    "\n",
    "seed_everything()"
   ]
  },
  {
   "cell_type": "code",
   "execution_count": 3,
   "id": "89a9098f-0e89-4ab8-a9e8-4497fa3cee61",
   "metadata": {},
   "outputs": [],
   "source": [
    "from lightning.pytorch.callbacks import ModelCheckpoint, EarlyStopping\n",
    "import warnings\n",
    "warnings.filterwarnings(\"ignore\")\n",
    "\n",
    "def create_trainer(name, max_epochs = 10):\n",
    "    checkpoint_callback = ModelCheckpoint(\n",
    "    dirpath=f'checkpoints/{name}',\n",
    "    save_last=False,\n",
    "    every_n_epochs=1,\n",
    "    save_top_k=1,\n",
    "    monitor=\"loss/val\",\n",
    "    filename=name,\n",
    "    mode=\"min\",\n",
    "    )\n",
    "\n",
    "    torch.set_float32_matmul_precision('medium')\n",
    "    trainer = L.Trainer(\n",
    "        max_epochs=max_epochs,\n",
    "        callbacks=[checkpoint_callback],\n",
    "        num_sanity_val_steps=1,\n",
    "        log_every_n_steps=5,\n",
    "        logger=L.pytorch.loggers.CSVLogger(save_dir=f\"logs/\", name = name),\n",
    "    )\n",
    "    return trainer"
   ]
  },
  {
   "cell_type": "code",
   "execution_count": 4,
   "id": "a8706136-7d80-4ad1-8b71-b3a38aa74324",
   "metadata": {},
   "outputs": [
    {
     "name": "stdout",
     "output_type": "stream",
     "text": [
      "cuda\n"
     ]
    }
   ],
   "source": [
    "device = torch.device('cuda' if torch.cuda.is_available() else 'cpu')\n",
    "print(device)"
   ]
  },
  {
   "cell_type": "markdown",
   "id": "ad080352-ec63-4df1-9a4c-d81c425ddd00",
   "metadata": {},
   "source": [
    "# Загрузка данных и модели"
   ]
  },
  {
   "cell_type": "code",
   "execution_count": 5,
   "id": "27a9686c-c813-4da4-8388-ea16a3b23190",
   "metadata": {},
   "outputs": [],
   "source": [
    "from datasets import load_dataset\n",
    "\n",
    "dataset_train = load_dataset(\"glue\", \"mrpc\", split=\"train\")\n",
    "dataset_val = load_dataset(\"glue\", \"mrpc\", split=\"validation\")\n",
    "dataset_test = load_dataset(\"glue\", \"mrpc\", split=\"test\")"
   ]
  },
  {
   "cell_type": "code",
   "execution_count": 6,
   "id": "abe72c2b-4203-489c-9a68-53bd0e60dcb3",
   "metadata": {},
   "outputs": [
    {
     "name": "stderr",
     "output_type": "stream",
     "text": [
      "Some weights of BertForSequenceClassification were not initialized from the model checkpoint at bert-base-uncased and are newly initialized: ['classifier.bias', 'classifier.weight']\n",
      "You should probably TRAIN this model on a down-stream task to be able to use it for predictions and inference.\n"
     ]
    }
   ],
   "source": [
    "from transformers import AutoModelForSequenceClassification, AutoTokenizer\n",
    "\n",
    "base_model = AutoModelForSequenceClassification.from_pretrained(\"bert-base-uncased\")\n",
    "tokenizer = AutoTokenizer.from_pretrained(\"bert-base-uncased\")"
   ]
  },
  {
   "cell_type": "code",
   "execution_count": 7,
   "id": "0a8545b0-4b71-4b3a-9aa4-750e5ca99bd6",
   "metadata": {},
   "outputs": [],
   "source": [
    "def encode(examples):\n",
    "    return tokenizer(examples[\"sentence1\"], examples[\"sentence2\"], truncation=True, padding=\"max_length\")\n",
    "\n",
    "dataset_train = dataset_train.map(encode, batched=True)\n",
    "dataset_train = dataset_train.map(lambda examples: {\"labels\": examples[\"label\"]}, batched=True)\n",
    "dataset_val = dataset_val.map(encode, batched=True)\n",
    "dataset_val = dataset_val.map(lambda examples: {\"labels\": examples[\"label\"]}, batched=True)\n",
    "dataset_test = dataset_test.map(encode, batched=True)\n",
    "dataset_test = dataset_test.map(lambda examples: {\"labels\": examples[\"label\"]}, batched=True)"
   ]
  },
  {
   "cell_type": "code",
   "execution_count": 8,
   "id": "fffc2e57-b59d-49f2-8e2f-6bd80834333d",
   "metadata": {},
   "outputs": [],
   "source": [
    "import torch\n",
    "\n",
    "dataset_train.set_format(type=\"torch\", columns=[\"input_ids\", \"token_type_ids\", \"attention_mask\", \"labels\"])\n",
    "train_dataloader = torch.utils.data.DataLoader(dataset_train, batch_size=32, shuffle = True)\n",
    "dataset_val.set_format(type=\"torch\", columns=[\"input_ids\", \"token_type_ids\", \"attention_mask\", \"labels\"])\n",
    "val_dataloader = torch.utils.data.DataLoader(dataset_val, batch_size=32, shuffle = False)\n",
    "dataset_test.set_format(type=\"torch\", columns=[\"input_ids\", \"token_type_ids\", \"attention_mask\", \"labels\"])\n",
    "test_dataloader = torch.utils.data.DataLoader(dataset_test, batch_size=32, shuffle = False)"
   ]
  },
  {
   "cell_type": "markdown",
   "id": "d156fe92-f765-4180-a15e-92118c2ebb99",
   "metadata": {},
   "source": [
    "# Тренировка"
   ]
  },
  {
   "cell_type": "markdown",
   "id": "7b04aa9e-9027-46d8-a031-6fd5eb2386c2",
   "metadata": {
    "jp-MarkdownHeadingCollapsed": true
   },
   "source": [
    "## LoRA"
   ]
  },
  {
   "cell_type": "code",
   "execution_count": 9,
   "id": "5bcb4f84-eacc-4bbc-930d-62bd295e76e9",
   "metadata": {},
   "outputs": [],
   "source": [
    "from peft import LoraConfig, TaskType\n",
    "\n",
    "peft_config = LoraConfig(task_type = 'text-classification', inference_mode=False, r=10, lora_alpha=32, lora_dropout=0.1)"
   ]
  },
  {
   "cell_type": "code",
   "execution_count": 10,
   "id": "01c9b78f-a007-4363-8cb4-450c8ba2df3c",
   "metadata": {},
   "outputs": [
    {
     "name": "stdout",
     "output_type": "stream",
     "text": [
      "trainable params: 368,640 || all params: 109,852,418 || trainable%: 0.3356\n"
     ]
    }
   ],
   "source": [
    "from peft import get_peft_model\n",
    "\n",
    "model = get_peft_model(base_model, peft_config)\n",
    "model.print_trainable_parameters()"
   ]
  },
  {
   "cell_type": "markdown",
   "id": "b935b262-be7f-4372-84b7-c4ab885d461e",
   "metadata": {},
   "source": [
    "### Кастомный Trainer"
   ]
  },
  {
   "cell_type": "code",
   "execution_count": 19,
   "id": "69633be9-aa57-4c85-a62a-913c204bba9a",
   "metadata": {},
   "outputs": [],
   "source": [
    "class LModel(L.LightningModule):\n",
    "\n",
    "    def __init__(\n",
    "            self, model, lr=2e-4,\n",
    "        ):\n",
    "        super().__init__()\n",
    "        self.model = model\n",
    "        self.train_acc = BinaryAccuracy()\n",
    "        self.valid_acc = BinaryAccuracy()\n",
    "        self.test_acc = BinaryAccuracy()\n",
    "        self.lr = lr\n",
    "        self.automatic_optimization = True\n",
    "\n",
    "    def configure_optimizers(self):\n",
    "        optimizer = torch.optim.AdamW(self.model.parameters(), lr = self.lr)\n",
    "        return optimizer\n",
    "\n",
    "    def training_step(self, batch, batch_idx):\n",
    "        y = batch['labels']\n",
    "        out = self.model.forward(**batch)\n",
    "        logits = out.logits\n",
    "        loss = out.loss\n",
    "        preds = torch.nn.functional.softmax(logits, dim = 1)[:,1]\n",
    "        self.train_acc.update((preds.detach()), y.detach())\n",
    "        self.log(\"loss/train\", loss.detach().item(), prog_bar=True)\n",
    "        return loss\n",
    "        \n",
    "    def on_train_epoch_end(self):\n",
    "        self.log(\"Acc/train\", self.train_acc.compute(), prog_bar=True)\n",
    "        self.train_acc.reset()\n",
    "        \n",
    "    def validation_step(self, batch, batch_idx):\n",
    "        y = batch['labels']\n",
    "        out = self.model.forward(**batch)\n",
    "        logits = out.logits\n",
    "        loss = out.loss\n",
    "        preds = torch.nn.functional.softmax(logits, dim = 1)[:,1]\n",
    "        self.valid_acc.update((preds.detach()), y.detach())\n",
    "        self.log(\"loss/val\", loss.detach().item())\n",
    "        \n",
    "    def on_validation_epoch_end(self):\n",
    "        self.log(\"Acc/val\", self.valid_acc.compute(), prog_bar=True)\n",
    "        self.valid_acc.reset()\n",
    "        \n",
    "    def test_step(self, batch, batch_idx):\n",
    "        y = batch['labels']\n",
    "        out = self.model.forward(**batch)\n",
    "        logits = out.logits\n",
    "        preds = torch.nn.functional.softmax(logits, dim = 1)[:,1]\n",
    "        self.test_acc.update((preds.detach()), y.detach())\n",
    "        \n",
    "    def on_test_epoch_end(self):\n",
    "        self.log(\"Acc/test\", self.test_acc.compute(), prog_bar=True)\n",
    "        self.test_acc.reset()"
   ]
  },
  {
   "cell_type": "code",
   "execution_count": 89,
   "id": "968757d3",
   "metadata": {},
   "outputs": [
    {
     "name": "stderr",
     "output_type": "stream",
     "text": [
      "GPU available: True (cuda), used: True\n",
      "TPU available: False, using: 0 TPU cores\n",
      "HPU available: False, using: 0 HPUs\n",
      "LOCAL_RANK: 0 - CUDA_VISIBLE_DEVICES: [0]\n"
     ]
    },
    {
     "data": {
      "application/vnd.jupyter.widget-view+json": {
       "model_id": "387ea425b7df46d292771ee11690eece",
       "version_major": 2,
       "version_minor": 0
      },
      "text/plain": [
       "Testing: |          | 0/? [00:00<?, ?it/s]"
      ]
     },
     "metadata": {},
     "output_type": "display_data"
    },
    {
     "data": {
      "text/html": [
       "<pre style=\"white-space:pre;overflow-x:auto;line-height:normal;font-family:Menlo,'DejaVu Sans Mono',consolas,'Courier New',monospace\">┏━━━━━━━━━━━━━━━━━━━━━━━━━━━┳━━━━━━━━━━━━━━━━━━━━━━━━━━━┓\n",
       "┃<span style=\"font-weight: bold\">        Test metric        </span>┃<span style=\"font-weight: bold\">       DataLoader 0        </span>┃\n",
       "┡━━━━━━━━━━━━━━━━━━━━━━━━━━━╇━━━━━━━━━━━━━━━━━━━━━━━━━━━┩\n",
       "│<span style=\"color: #008080; text-decoration-color: #008080\">         Acc/test          </span>│<span style=\"color: #800080; text-decoration-color: #800080\">    0.33507245779037476    </span>│\n",
       "└───────────────────────────┴───────────────────────────┘\n",
       "</pre>\n"
      ],
      "text/plain": [
       "┏━━━━━━━━━━━━━━━━━━━━━━━━━━━┳━━━━━━━━━━━━━━━━━━━━━━━━━━━┓\n",
       "┃\u001b[1m \u001b[0m\u001b[1m       Test metric       \u001b[0m\u001b[1m \u001b[0m┃\u001b[1m \u001b[0m\u001b[1m      DataLoader 0       \u001b[0m\u001b[1m \u001b[0m┃\n",
       "┡━━━━━━━━━━━━━━━━━━━━━━━━━━━╇━━━━━━━━━━━━━━━━━━━━━━━━━━━┩\n",
       "│\u001b[36m \u001b[0m\u001b[36m        Acc/test         \u001b[0m\u001b[36m \u001b[0m│\u001b[35m \u001b[0m\u001b[35m   0.33507245779037476   \u001b[0m\u001b[35m \u001b[0m│\n",
       "└───────────────────────────┴───────────────────────────┘\n"
      ]
     },
     "metadata": {},
     "output_type": "display_data"
    }
   ],
   "source": [
    "pl_model = LModel(base_model)\n",
    "trainer = create_trainer(\"BERT\", max_epochs = 15)\n",
    "trainer.test(pl_model, dataloaders = test_dataloader);"
   ]
  },
  {
   "cell_type": "code",
   "execution_count": 13,
   "id": "1233e42d",
   "metadata": {},
   "outputs": [
    {
     "name": "stderr",
     "output_type": "stream",
     "text": [
      "huggingface/tokenizers: The current process just got forked, after parallelism has already been used. Disabling parallelism to avoid deadlocks...\n",
      "To disable this warning, you can either:\n",
      "\t- Avoid using `tokenizers` before the fork if possible\n",
      "\t- Explicitly set the environment variable TOKENIZERS_PARALLELISM=(true | false)\n",
      "GPU available: True (cuda), used: True\n",
      "TPU available: False, using: 0 TPU cores\n",
      "HPU available: False, using: 0 HPUs\n",
      "LOCAL_RANK: 0 - CUDA_VISIBLE_DEVICES: [0]\n"
     ]
    },
    {
     "data": {
      "application/vnd.jupyter.widget-view+json": {
       "model_id": "dcbf93f97c674877906c16c9c413707b",
       "version_major": 2,
       "version_minor": 0
      },
      "text/plain": [
       "Testing: |          | 0/? [00:00<?, ?it/s]"
      ]
     },
     "metadata": {},
     "output_type": "display_data"
    },
    {
     "data": {
      "text/html": [
       "<pre style=\"white-space:pre;overflow-x:auto;line-height:normal;font-family:Menlo,'DejaVu Sans Mono',consolas,'Courier New',monospace\">┏━━━━━━━━━━━━━━━━━━━━━━━━━━━┳━━━━━━━━━━━━━━━━━━━━━━━━━━━┓\n",
       "┃<span style=\"font-weight: bold\">        Test metric        </span>┃<span style=\"font-weight: bold\">       DataLoader 0        </span>┃\n",
       "┡━━━━━━━━━━━━━━━━━━━━━━━━━━━╇━━━━━━━━━━━━━━━━━━━━━━━━━━━┩\n",
       "│<span style=\"color: #008080; text-decoration-color: #008080\">         Acc/test          </span>│<span style=\"color: #800080; text-decoration-color: #800080\">    0.6649275422096252     </span>│\n",
       "└───────────────────────────┴───────────────────────────┘\n",
       "</pre>\n"
      ],
      "text/plain": [
       "┏━━━━━━━━━━━━━━━━━━━━━━━━━━━┳━━━━━━━━━━━━━━━━━━━━━━━━━━━┓\n",
       "┃\u001b[1m \u001b[0m\u001b[1m       Test metric       \u001b[0m\u001b[1m \u001b[0m┃\u001b[1m \u001b[0m\u001b[1m      DataLoader 0       \u001b[0m\u001b[1m \u001b[0m┃\n",
       "┡━━━━━━━━━━━━━━━━━━━━━━━━━━━╇━━━━━━━━━━━━━━━━━━━━━━━━━━━┩\n",
       "│\u001b[36m \u001b[0m\u001b[36m        Acc/test         \u001b[0m\u001b[36m \u001b[0m│\u001b[35m \u001b[0m\u001b[35m   0.6649275422096252    \u001b[0m\u001b[35m \u001b[0m│\n",
       "└───────────────────────────┴───────────────────────────┘\n"
      ]
     },
     "metadata": {},
     "output_type": "display_data"
    }
   ],
   "source": [
    "pl_model = LModel(model)\n",
    "trainer = create_trainer(\"BERT_lora\", max_epochs = 15)\n",
    "trainer.test(pl_model, dataloaders = test_dataloader);"
   ]
  },
  {
   "cell_type": "code",
   "execution_count": 14,
   "id": "d7340f22-2dbd-48e9-93a7-609ad19a9db4",
   "metadata": {},
   "outputs": [
    {
     "name": "stderr",
     "output_type": "stream",
     "text": [
      "LOCAL_RANK: 0 - CUDA_VISIBLE_DEVICES: [0]\n",
      "\n",
      "  | Name      | Type           | Params | Mode \n",
      "-----------------------------------------------------\n",
      "0 | model     | PeftModel      | 109 M  | train\n",
      "1 | train_acc | BinaryAccuracy | 0      | train\n",
      "2 | valid_acc | BinaryAccuracy | 0      | train\n",
      "3 | test_acc  | BinaryAccuracy | 0      | train\n",
      "-----------------------------------------------------\n",
      "368 K     Trainable params\n",
      "109 M     Non-trainable params\n",
      "109 M     Total params\n",
      "439.410   Total estimated model params size (MB)\n",
      "245       Modules in train mode\n",
      "231       Modules in eval mode\n"
     ]
    },
    {
     "data": {
      "application/vnd.jupyter.widget-view+json": {
       "model_id": "",
       "version_major": 2,
       "version_minor": 0
      },
      "text/plain": [
       "Sanity Checking: |          | 0/? [00:00<?, ?it/s]"
      ]
     },
     "metadata": {},
     "output_type": "display_data"
    },
    {
     "data": {
      "application/vnd.jupyter.widget-view+json": {
       "model_id": "65010574ccdf497c8024f69845c8d305",
       "version_major": 2,
       "version_minor": 0
      },
      "text/plain": [
       "Training: |          | 0/? [00:00<?, ?it/s]"
      ]
     },
     "metadata": {},
     "output_type": "display_data"
    },
    {
     "data": {
      "application/vnd.jupyter.widget-view+json": {
       "model_id": "",
       "version_major": 2,
       "version_minor": 0
      },
      "text/plain": [
       "Validation: |          | 0/? [00:00<?, ?it/s]"
      ]
     },
     "metadata": {},
     "output_type": "display_data"
    },
    {
     "data": {
      "application/vnd.jupyter.widget-view+json": {
       "model_id": "",
       "version_major": 2,
       "version_minor": 0
      },
      "text/plain": [
       "Validation: |          | 0/? [00:00<?, ?it/s]"
      ]
     },
     "metadata": {},
     "output_type": "display_data"
    },
    {
     "data": {
      "application/vnd.jupyter.widget-view+json": {
       "model_id": "",
       "version_major": 2,
       "version_minor": 0
      },
      "text/plain": [
       "Validation: |          | 0/? [00:00<?, ?it/s]"
      ]
     },
     "metadata": {},
     "output_type": "display_data"
    },
    {
     "data": {
      "application/vnd.jupyter.widget-view+json": {
       "model_id": "",
       "version_major": 2,
       "version_minor": 0
      },
      "text/plain": [
       "Validation: |          | 0/? [00:00<?, ?it/s]"
      ]
     },
     "metadata": {},
     "output_type": "display_data"
    },
    {
     "data": {
      "application/vnd.jupyter.widget-view+json": {
       "model_id": "",
       "version_major": 2,
       "version_minor": 0
      },
      "text/plain": [
       "Validation: |          | 0/? [00:00<?, ?it/s]"
      ]
     },
     "metadata": {},
     "output_type": "display_data"
    },
    {
     "data": {
      "application/vnd.jupyter.widget-view+json": {
       "model_id": "",
       "version_major": 2,
       "version_minor": 0
      },
      "text/plain": [
       "Validation: |          | 0/? [00:00<?, ?it/s]"
      ]
     },
     "metadata": {},
     "output_type": "display_data"
    },
    {
     "data": {
      "application/vnd.jupyter.widget-view+json": {
       "model_id": "",
       "version_major": 2,
       "version_minor": 0
      },
      "text/plain": [
       "Validation: |          | 0/? [00:00<?, ?it/s]"
      ]
     },
     "metadata": {},
     "output_type": "display_data"
    },
    {
     "data": {
      "application/vnd.jupyter.widget-view+json": {
       "model_id": "",
       "version_major": 2,
       "version_minor": 0
      },
      "text/plain": [
       "Validation: |          | 0/? [00:00<?, ?it/s]"
      ]
     },
     "metadata": {},
     "output_type": "display_data"
    },
    {
     "data": {
      "application/vnd.jupyter.widget-view+json": {
       "model_id": "",
       "version_major": 2,
       "version_minor": 0
      },
      "text/plain": [
       "Validation: |          | 0/? [00:00<?, ?it/s]"
      ]
     },
     "metadata": {},
     "output_type": "display_data"
    },
    {
     "data": {
      "application/vnd.jupyter.widget-view+json": {
       "model_id": "",
       "version_major": 2,
       "version_minor": 0
      },
      "text/plain": [
       "Validation: |          | 0/? [00:00<?, ?it/s]"
      ]
     },
     "metadata": {},
     "output_type": "display_data"
    },
    {
     "data": {
      "application/vnd.jupyter.widget-view+json": {
       "model_id": "",
       "version_major": 2,
       "version_minor": 0
      },
      "text/plain": [
       "Validation: |          | 0/? [00:00<?, ?it/s]"
      ]
     },
     "metadata": {},
     "output_type": "display_data"
    },
    {
     "data": {
      "application/vnd.jupyter.widget-view+json": {
       "model_id": "",
       "version_major": 2,
       "version_minor": 0
      },
      "text/plain": [
       "Validation: |          | 0/? [00:00<?, ?it/s]"
      ]
     },
     "metadata": {},
     "output_type": "display_data"
    },
    {
     "data": {
      "application/vnd.jupyter.widget-view+json": {
       "model_id": "",
       "version_major": 2,
       "version_minor": 0
      },
      "text/plain": [
       "Validation: |          | 0/? [00:00<?, ?it/s]"
      ]
     },
     "metadata": {},
     "output_type": "display_data"
    },
    {
     "data": {
      "application/vnd.jupyter.widget-view+json": {
       "model_id": "",
       "version_major": 2,
       "version_minor": 0
      },
      "text/plain": [
       "Validation: |          | 0/? [00:00<?, ?it/s]"
      ]
     },
     "metadata": {},
     "output_type": "display_data"
    },
    {
     "data": {
      "application/vnd.jupyter.widget-view+json": {
       "model_id": "",
       "version_major": 2,
       "version_minor": 0
      },
      "text/plain": [
       "Validation: |          | 0/? [00:00<?, ?it/s]"
      ]
     },
     "metadata": {},
     "output_type": "display_data"
    },
    {
     "name": "stderr",
     "output_type": "stream",
     "text": [
      "`Trainer.fit` stopped: `max_epochs=15` reached.\n"
     ]
    }
   ],
   "source": [
    "trainer.fit(\n",
    "    model=pl_model,\n",
    "    train_dataloaders=train_dataloader,\n",
    "    val_dataloaders=val_dataloader\n",
    ")"
   ]
  },
  {
   "cell_type": "code",
   "execution_count": 15,
   "id": "8eacc4f2-7d92-48e7-884c-7e2690f6bad7",
   "metadata": {},
   "outputs": [
    {
     "name": "stderr",
     "output_type": "stream",
     "text": [
      "LOCAL_RANK: 0 - CUDA_VISIBLE_DEVICES: [0]\n"
     ]
    },
    {
     "data": {
      "application/vnd.jupyter.widget-view+json": {
       "model_id": "c9a97ef68e154a62b2be12eb09c8cc27",
       "version_major": 2,
       "version_minor": 0
      },
      "text/plain": [
       "Testing: |          | 0/? [00:00<?, ?it/s]"
      ]
     },
     "metadata": {},
     "output_type": "display_data"
    },
    {
     "data": {
      "text/html": [
       "<pre style=\"white-space:pre;overflow-x:auto;line-height:normal;font-family:Menlo,'DejaVu Sans Mono',consolas,'Courier New',monospace\">┏━━━━━━━━━━━━━━━━━━━━━━━━━━━┳━━━━━━━━━━━━━━━━━━━━━━━━━━━┓\n",
       "┃<span style=\"font-weight: bold\">        Test metric        </span>┃<span style=\"font-weight: bold\">       DataLoader 0        </span>┃\n",
       "┡━━━━━━━━━━━━━━━━━━━━━━━━━━━╇━━━━━━━━━━━━━━━━━━━━━━━━━━━┩\n",
       "│<span style=\"color: #008080; text-decoration-color: #008080\">         Acc/test          </span>│<span style=\"color: #800080; text-decoration-color: #800080\">    0.8208695650100708     </span>│\n",
       "└───────────────────────────┴───────────────────────────┘\n",
       "</pre>\n"
      ],
      "text/plain": [
       "┏━━━━━━━━━━━━━━━━━━━━━━━━━━━┳━━━━━━━━━━━━━━━━━━━━━━━━━━━┓\n",
       "┃\u001b[1m \u001b[0m\u001b[1m       Test metric       \u001b[0m\u001b[1m \u001b[0m┃\u001b[1m \u001b[0m\u001b[1m      DataLoader 0       \u001b[0m\u001b[1m \u001b[0m┃\n",
       "┡━━━━━━━━━━━━━━━━━━━━━━━━━━━╇━━━━━━━━━━━━━━━━━━━━━━━━━━━┩\n",
       "│\u001b[36m \u001b[0m\u001b[36m        Acc/test         \u001b[0m\u001b[36m \u001b[0m│\u001b[35m \u001b[0m\u001b[35m   0.8208695650100708    \u001b[0m\u001b[35m \u001b[0m│\n",
       "└───────────────────────────┴───────────────────────────┘\n"
      ]
     },
     "metadata": {},
     "output_type": "display_data"
    }
   ],
   "source": [
    "trainer.test(pl_model, dataloaders = test_dataloader);"
   ]
  },
  {
   "cell_type": "markdown",
   "id": "24df282d-88bc-4454-9b4f-270ff84304bb",
   "metadata": {
    "jp-MarkdownHeadingCollapsed": true
   },
   "source": [
    "## AdaLoRA"
   ]
  },
  {
   "cell_type": "code",
   "execution_count": 20,
   "id": "15973fad-63d0-4803-9b9a-896968adaf57",
   "metadata": {},
   "outputs": [
    {
     "name": "stderr",
     "output_type": "stream",
     "text": [
      "Some weights of BertForSequenceClassification were not initialized from the model checkpoint at bert-base-uncased and are newly initialized: ['classifier.bias', 'classifier.weight']\n",
      "You should probably TRAIN this model on a down-stream task to be able to use it for predictions and inference.\n"
     ]
    },
    {
     "name": "stdout",
     "output_type": "stream",
     "text": [
      "trainable params: 442,656 || all params: 109,926,458 || trainable%: 0.4027\n"
     ]
    }
   ],
   "source": [
    "from peft import AdaLoraConfig, TaskType\n",
    "from peft import get_peft_model\n",
    "\n",
    "max_epochs = 15\n",
    "peft_config = AdaLoraConfig(task_type = 'text-classification', inference_mode=False, r=10, lora_alpha=32, lora_dropout=0.1, total_step = max_epochs*len(train_dataloader))\n",
    "model = AutoModelForSequenceClassification.from_pretrained(\"bert-base-uncased\")\n",
    "tokenizer = AutoTokenizer.from_pretrained(\"bert-base-uncased\")\n",
    "\n",
    "model = get_peft_model(model, peft_config)\n",
    "model.print_trainable_parameters()"
   ]
  },
  {
   "cell_type": "code",
   "execution_count": 21,
   "id": "bcb8fa5e-c8e3-40b4-b196-6a5a2be2ac23",
   "metadata": {},
   "outputs": [],
   "source": [
    "class LModel(L.LightningModule):\n",
    "\n",
    "    def __init__(\n",
    "            self, model, lr=2e-4,\n",
    "        ):\n",
    "        super().__init__()\n",
    "        self.model = model\n",
    "        self.train_acc = BinaryAccuracy()\n",
    "        self.valid_acc = BinaryAccuracy()\n",
    "        self.test_acc = BinaryAccuracy()\n",
    "        self.lr = lr\n",
    "        self.automatic_optimization = False\n",
    "        self.i_step = 0\n",
    "\n",
    "    def configure_optimizers(self):\n",
    "        optimizer = torch.optim.AdamW(self.model.parameters(), lr = self.lr)\n",
    "        return optimizer\n",
    "\n",
    "    def training_step(self, batch, batch_idx):\n",
    "        y = batch['labels']\n",
    "        out = self.model.forward(**batch)\n",
    "        logits = out.logits\n",
    "        \n",
    "        #---Manual optimization block---\n",
    "        opt = self.optimizers() \n",
    "        opt.zero_grad()\n",
    "        loss = out.loss\n",
    "        self.manual_backward(loss)\n",
    "        self.model.base_model.update_and_allocate(self.i_step) #Step AdaLoRA\n",
    "        opt.step()\n",
    "        \n",
    "        preds = torch.nn.functional.softmax(logits, dim = 1)[:,1]\n",
    "        self.train_acc.update((preds.detach()), y.detach())\n",
    "        self.log(\"loss/train\", loss.detach().item(), prog_bar=True)\n",
    "        self.i_step += 1\n",
    "        return loss\n",
    "        \n",
    "    def on_train_epoch_end(self):\n",
    "        self.log(\"Acc/train\", self.train_acc.compute(), prog_bar=True)\n",
    "        self.train_acc.reset()\n",
    "        \n",
    "    def validation_step(self, batch, batch_idx):\n",
    "        y = batch['labels']\n",
    "        out = self.model.forward(**batch)\n",
    "        logits = out.logits\n",
    "        loss = out.loss\n",
    "        preds = torch.nn.functional.softmax(logits, dim = 1)[:,1]\n",
    "        self.valid_acc.update((preds.detach()), y.detach())\n",
    "        self.log(\"loss/val\", loss.detach().item())\n",
    "        \n",
    "    def on_validation_epoch_end(self):\n",
    "        self.log(\"Acc/val\", self.valid_acc.compute(), prog_bar=True)\n",
    "        self.valid_acc.reset()\n",
    "        \n",
    "    def test_step(self, batch, batch_idx):\n",
    "        y = batch['labels']\n",
    "        out = self.model.forward(**batch)\n",
    "        logits = out.logits\n",
    "        preds = torch.nn.functional.softmax(logits, dim = 1)[:,1]\n",
    "        self.test_acc.update((preds.detach()), y.detach())\n",
    "        \n",
    "    def on_test_epoch_end(self):\n",
    "        self.log(\"Acc/test\", self.test_acc.compute(), prog_bar=True)\n",
    "        self.test_acc.reset()"
   ]
  },
  {
   "cell_type": "code",
   "execution_count": 22,
   "id": "0b4ac2a7-8bcc-4857-ab52-7f36231ab486",
   "metadata": {},
   "outputs": [
    {
     "name": "stderr",
     "output_type": "stream",
     "text": [
      "GPU available: True (cuda), used: True\n",
      "TPU available: False, using: 0 TPU cores\n",
      "HPU available: False, using: 0 HPUs\n",
      "LOCAL_RANK: 0 - CUDA_VISIBLE_DEVICES: [0]\n"
     ]
    },
    {
     "data": {
      "application/vnd.jupyter.widget-view+json": {
       "model_id": "d1757e4dbbdf4cc586b93d97fd65e914",
       "version_major": 2,
       "version_minor": 0
      },
      "text/plain": [
       "Testing: |          | 0/? [00:00<?, ?it/s]"
      ]
     },
     "metadata": {},
     "output_type": "display_data"
    },
    {
     "data": {
      "text/html": [
       "<pre style=\"white-space:pre;overflow-x:auto;line-height:normal;font-family:Menlo,'DejaVu Sans Mono',consolas,'Courier New',monospace\">┏━━━━━━━━━━━━━━━━━━━━━━━━━━━┳━━━━━━━━━━━━━━━━━━━━━━━━━━━┓\n",
       "┃<span style=\"font-weight: bold\">        Test metric        </span>┃<span style=\"font-weight: bold\">       DataLoader 0        </span>┃\n",
       "┡━━━━━━━━━━━━━━━━━━━━━━━━━━━╇━━━━━━━━━━━━━━━━━━━━━━━━━━━┩\n",
       "│<span style=\"color: #008080; text-decoration-color: #008080\">         Acc/test          </span>│<span style=\"color: #800080; text-decoration-color: #800080\">    0.6649275422096252     </span>│\n",
       "└───────────────────────────┴───────────────────────────┘\n",
       "</pre>\n"
      ],
      "text/plain": [
       "┏━━━━━━━━━━━━━━━━━━━━━━━━━━━┳━━━━━━━━━━━━━━━━━━━━━━━━━━━┓\n",
       "┃\u001b[1m \u001b[0m\u001b[1m       Test metric       \u001b[0m\u001b[1m \u001b[0m┃\u001b[1m \u001b[0m\u001b[1m      DataLoader 0       \u001b[0m\u001b[1m \u001b[0m┃\n",
       "┡━━━━━━━━━━━━━━━━━━━━━━━━━━━╇━━━━━━━━━━━━━━━━━━━━━━━━━━━┩\n",
       "│\u001b[36m \u001b[0m\u001b[36m        Acc/test         \u001b[0m\u001b[36m \u001b[0m│\u001b[35m \u001b[0m\u001b[35m   0.6649275422096252    \u001b[0m\u001b[35m \u001b[0m│\n",
       "└───────────────────────────┴───────────────────────────┘\n"
      ]
     },
     "metadata": {},
     "output_type": "display_data"
    }
   ],
   "source": [
    "pl_model = LModel(model)\n",
    "trainer = create_trainer(\"BERT_adalora\", max_epochs = max_epochs)\n",
    "trainer.test(pl_model, dataloaders = test_dataloader);"
   ]
  },
  {
   "cell_type": "code",
   "execution_count": 23,
   "id": "33f2e62e-07f3-484e-b76d-c6e304ff96bb",
   "metadata": {},
   "outputs": [
    {
     "name": "stderr",
     "output_type": "stream",
     "text": [
      "LOCAL_RANK: 0 - CUDA_VISIBLE_DEVICES: [0]\n",
      "\n",
      "  | Name      | Type           | Params | Mode \n",
      "-----------------------------------------------------\n",
      "0 | model     | PeftModel      | 109 M  | train\n",
      "1 | train_acc | BinaryAccuracy | 0      | train\n",
      "2 | valid_acc | BinaryAccuracy | 0      | train\n",
      "3 | test_acc  | BinaryAccuracy | 0      | train\n",
      "-----------------------------------------------------\n",
      "442 K     Trainable params\n",
      "109 M     Non-trainable params\n",
      "109 M     Total params\n",
      "439.706   Total estimated model params size (MB)\n",
      "245       Modules in train mode\n",
      "231       Modules in eval mode\n"
     ]
    },
    {
     "data": {
      "application/vnd.jupyter.widget-view+json": {
       "model_id": "",
       "version_major": 2,
       "version_minor": 0
      },
      "text/plain": [
       "Sanity Checking: |          | 0/? [00:00<?, ?it/s]"
      ]
     },
     "metadata": {},
     "output_type": "display_data"
    },
    {
     "data": {
      "application/vnd.jupyter.widget-view+json": {
       "model_id": "a2b99f489d4f4c29a0070eab36afac4e",
       "version_major": 2,
       "version_minor": 0
      },
      "text/plain": [
       "Training: |          | 0/? [00:00<?, ?it/s]"
      ]
     },
     "metadata": {},
     "output_type": "display_data"
    },
    {
     "data": {
      "application/vnd.jupyter.widget-view+json": {
       "model_id": "",
       "version_major": 2,
       "version_minor": 0
      },
      "text/plain": [
       "Validation: |          | 0/? [00:00<?, ?it/s]"
      ]
     },
     "metadata": {},
     "output_type": "display_data"
    },
    {
     "data": {
      "application/vnd.jupyter.widget-view+json": {
       "model_id": "",
       "version_major": 2,
       "version_minor": 0
      },
      "text/plain": [
       "Validation: |          | 0/? [00:00<?, ?it/s]"
      ]
     },
     "metadata": {},
     "output_type": "display_data"
    },
    {
     "data": {
      "application/vnd.jupyter.widget-view+json": {
       "model_id": "",
       "version_major": 2,
       "version_minor": 0
      },
      "text/plain": [
       "Validation: |          | 0/? [00:00<?, ?it/s]"
      ]
     },
     "metadata": {},
     "output_type": "display_data"
    },
    {
     "data": {
      "application/vnd.jupyter.widget-view+json": {
       "model_id": "",
       "version_major": 2,
       "version_minor": 0
      },
      "text/plain": [
       "Validation: |          | 0/? [00:00<?, ?it/s]"
      ]
     },
     "metadata": {},
     "output_type": "display_data"
    },
    {
     "data": {
      "application/vnd.jupyter.widget-view+json": {
       "model_id": "",
       "version_major": 2,
       "version_minor": 0
      },
      "text/plain": [
       "Validation: |          | 0/? [00:00<?, ?it/s]"
      ]
     },
     "metadata": {},
     "output_type": "display_data"
    },
    {
     "data": {
      "application/vnd.jupyter.widget-view+json": {
       "model_id": "",
       "version_major": 2,
       "version_minor": 0
      },
      "text/plain": [
       "Validation: |          | 0/? [00:00<?, ?it/s]"
      ]
     },
     "metadata": {},
     "output_type": "display_data"
    },
    {
     "data": {
      "application/vnd.jupyter.widget-view+json": {
       "model_id": "",
       "version_major": 2,
       "version_minor": 0
      },
      "text/plain": [
       "Validation: |          | 0/? [00:00<?, ?it/s]"
      ]
     },
     "metadata": {},
     "output_type": "display_data"
    },
    {
     "data": {
      "application/vnd.jupyter.widget-view+json": {
       "model_id": "",
       "version_major": 2,
       "version_minor": 0
      },
      "text/plain": [
       "Validation: |          | 0/? [00:00<?, ?it/s]"
      ]
     },
     "metadata": {},
     "output_type": "display_data"
    },
    {
     "data": {
      "application/vnd.jupyter.widget-view+json": {
       "model_id": "",
       "version_major": 2,
       "version_minor": 0
      },
      "text/plain": [
       "Validation: |          | 0/? [00:00<?, ?it/s]"
      ]
     },
     "metadata": {},
     "output_type": "display_data"
    },
    {
     "data": {
      "application/vnd.jupyter.widget-view+json": {
       "model_id": "",
       "version_major": 2,
       "version_minor": 0
      },
      "text/plain": [
       "Validation: |          | 0/? [00:00<?, ?it/s]"
      ]
     },
     "metadata": {},
     "output_type": "display_data"
    },
    {
     "data": {
      "application/vnd.jupyter.widget-view+json": {
       "model_id": "",
       "version_major": 2,
       "version_minor": 0
      },
      "text/plain": [
       "Validation: |          | 0/? [00:00<?, ?it/s]"
      ]
     },
     "metadata": {},
     "output_type": "display_data"
    },
    {
     "data": {
      "application/vnd.jupyter.widget-view+json": {
       "model_id": "",
       "version_major": 2,
       "version_minor": 0
      },
      "text/plain": [
       "Validation: |          | 0/? [00:00<?, ?it/s]"
      ]
     },
     "metadata": {},
     "output_type": "display_data"
    },
    {
     "data": {
      "application/vnd.jupyter.widget-view+json": {
       "model_id": "",
       "version_major": 2,
       "version_minor": 0
      },
      "text/plain": [
       "Validation: |          | 0/? [00:00<?, ?it/s]"
      ]
     },
     "metadata": {},
     "output_type": "display_data"
    },
    {
     "data": {
      "application/vnd.jupyter.widget-view+json": {
       "model_id": "",
       "version_major": 2,
       "version_minor": 0
      },
      "text/plain": [
       "Validation: |          | 0/? [00:00<?, ?it/s]"
      ]
     },
     "metadata": {},
     "output_type": "display_data"
    },
    {
     "data": {
      "application/vnd.jupyter.widget-view+json": {
       "model_id": "",
       "version_major": 2,
       "version_minor": 0
      },
      "text/plain": [
       "Validation: |          | 0/? [00:00<?, ?it/s]"
      ]
     },
     "metadata": {},
     "output_type": "display_data"
    },
    {
     "name": "stderr",
     "output_type": "stream",
     "text": [
      "`Trainer.fit` stopped: `max_epochs=15` reached.\n"
     ]
    }
   ],
   "source": [
    "trainer.fit(\n",
    "    model=pl_model,\n",
    "    train_dataloaders=train_dataloader,\n",
    "    val_dataloaders=val_dataloader\n",
    ")"
   ]
  },
  {
   "cell_type": "code",
   "execution_count": 24,
   "id": "ff1505cd-7472-441c-bd0d-6e33c5ceaff4",
   "metadata": {},
   "outputs": [
    {
     "name": "stderr",
     "output_type": "stream",
     "text": [
      "LOCAL_RANK: 0 - CUDA_VISIBLE_DEVICES: [0]\n"
     ]
    },
    {
     "data": {
      "application/vnd.jupyter.widget-view+json": {
       "model_id": "6d76a669a13d4735b8a74cceb105f48f",
       "version_major": 2,
       "version_minor": 0
      },
      "text/plain": [
       "Testing: |          | 0/? [00:00<?, ?it/s]"
      ]
     },
     "metadata": {},
     "output_type": "display_data"
    },
    {
     "data": {
      "text/html": [
       "<pre style=\"white-space:pre;overflow-x:auto;line-height:normal;font-family:Menlo,'DejaVu Sans Mono',consolas,'Courier New',monospace\">┏━━━━━━━━━━━━━━━━━━━━━━━━━━━┳━━━━━━━━━━━━━━━━━━━━━━━━━━━┓\n",
       "┃<span style=\"font-weight: bold\">        Test metric        </span>┃<span style=\"font-weight: bold\">       DataLoader 0        </span>┃\n",
       "┡━━━━━━━━━━━━━━━━━━━━━━━━━━━╇━━━━━━━━━━━━━━━━━━━━━━━━━━━┩\n",
       "│<span style=\"color: #008080; text-decoration-color: #008080\">         Acc/test          </span>│<span style=\"color: #800080; text-decoration-color: #800080\">    0.8226087093353271     </span>│\n",
       "└───────────────────────────┴───────────────────────────┘\n",
       "</pre>\n"
      ],
      "text/plain": [
       "┏━━━━━━━━━━━━━━━━━━━━━━━━━━━┳━━━━━━━━━━━━━━━━━━━━━━━━━━━┓\n",
       "┃\u001b[1m \u001b[0m\u001b[1m       Test metric       \u001b[0m\u001b[1m \u001b[0m┃\u001b[1m \u001b[0m\u001b[1m      DataLoader 0       \u001b[0m\u001b[1m \u001b[0m┃\n",
       "┡━━━━━━━━━━━━━━━━━━━━━━━━━━━╇━━━━━━━━━━━━━━━━━━━━━━━━━━━┩\n",
       "│\u001b[36m \u001b[0m\u001b[36m        Acc/test         \u001b[0m\u001b[36m \u001b[0m│\u001b[35m \u001b[0m\u001b[35m   0.8226087093353271    \u001b[0m\u001b[35m \u001b[0m│\n",
       "└───────────────────────────┴───────────────────────────┘\n"
      ]
     },
     "metadata": {},
     "output_type": "display_data"
    }
   ],
   "source": [
    "trainer.test(pl_model, dataloaders = test_dataloader);"
   ]
  },
  {
   "cell_type": "markdown",
   "id": "26802728",
   "metadata": {},
   "source": [
    "## RoseLoRA"
   ]
  },
  {
   "cell_type": "code",
   "execution_count": 9,
   "id": "5ee15f25-f646-4302-8a96-6f0fe085e74e",
   "metadata": {},
   "outputs": [
    {
     "name": "stderr",
     "output_type": "stream",
     "text": [
      "Some weights of BertForSequenceClassification were not initialized from the model checkpoint at bert-base-uncased and are newly initialized: ['classifier.bias', 'classifier.weight']\n",
      "You should probably TRAIN this model on a down-stream task to be able to use it for predictions and inference.\n"
     ]
    }
   ],
   "source": [
    "from src.rose_lora import SparseSVDLinear, RoseLoraModel\n",
    "from peft import LoraConfig, TaskType\n",
    "\n",
    "max_epochs = 20\n",
    "peft_config = LoraConfig(task_type = 'text-classification', inference_mode=False, r=10, lora_alpha=32, lora_dropout=0.1)\n",
    "base_model = AutoModelForSequenceClassification.from_pretrained(\"bert-base-uncased\")\n",
    "tokenizer = AutoTokenizer.from_pretrained(\"bert-base-uncased\")\n",
    "\n",
    "adaLora_wrapper = RoseLoraModel(base_model, peft_config, adapter_name=\"default\", total_step = max_epochs*len(train_dataloader), sparsity=0.1)\n",
    "roseLora_model = adaLora_wrapper\n"
   ]
  },
  {
   "cell_type": "code",
   "execution_count": 10,
   "id": "f8c73284",
   "metadata": {},
   "outputs": [],
   "source": [
    "class LModelRoseLora(L.LightningModule):\n",
    "\n",
    "    def __init__(\n",
    "            self, model, lr=2e-4,\n",
    "        ):\n",
    "        super().__init__()\n",
    "        self.model = model\n",
    "        self.train_acc = BinaryAccuracy()\n",
    "        self.valid_acc = BinaryAccuracy()\n",
    "        self.test_acc = BinaryAccuracy()\n",
    "        self.lr = lr\n",
    "        self.automatic_optimization = False\n",
    "        self.i_step = 0\n",
    "\n",
    "    def configure_optimizers(self):\n",
    "        optimizer = torch.optim.AdamW(self.model.parameters(), lr = self.lr)\n",
    "        return optimizer\n",
    "\n",
    "    def training_step(self, batch, batch_idx):\n",
    "        y = batch['labels']\n",
    "        out = self.model.forward(**batch)\n",
    "        logits = out.logits\n",
    "        \n",
    "        #---Manual optimization block---\n",
    "        opt = self.optimizers() \n",
    "        opt.zero_grad()\n",
    "        loss = out.loss\n",
    "        self.manual_backward(loss)\n",
    "        opt.step()\n",
    "        self.model.update_and_allocate(self.i_step) #Step RoseLoRA\n",
    "        \n",
    "        preds = torch.nn.functional.softmax(logits, dim = 1)[:,1]\n",
    "        self.train_acc.update((preds.detach()), y.detach())\n",
    "        self.log(\"loss/train\", loss.detach().item(), prog_bar=True)\n",
    "        self.i_step += 1\n",
    "        return loss\n",
    "        \n",
    "    def on_train_epoch_end(self):\n",
    "        self.log(\"Acc/train\", self.train_acc.compute(), prog_bar=True)\n",
    "        self.train_acc.reset()\n",
    "        \n",
    "    def validation_step(self, batch, batch_idx):\n",
    "        y = batch['labels']\n",
    "        out = self.model.forward(**batch)\n",
    "        logits = out.logits\n",
    "        loss = out.loss\n",
    "        preds = torch.nn.functional.softmax(logits, dim = 1)[:,1]\n",
    "        self.valid_acc.update((preds.detach()), y.detach())\n",
    "        self.log(\"loss/val\", loss.detach().item())\n",
    "        \n",
    "    def on_validation_epoch_end(self):\n",
    "        self.log(\"Acc/val\", self.valid_acc.compute(), prog_bar=True)\n",
    "        self.valid_acc.reset()\n",
    "        \n",
    "    def test_step(self, batch, batch_idx):\n",
    "        y = batch['labels']\n",
    "        out = self.model.forward(**batch)\n",
    "        logits = out.logits\n",
    "        preds = torch.nn.functional.softmax(logits, dim = 1)[:,1]\n",
    "        self.test_acc.update((preds.detach()), y.detach())\n",
    "        \n",
    "    def on_test_epoch_end(self):\n",
    "        self.log(\"Acc/test\", self.test_acc.compute(), prog_bar=True)\n",
    "        self.test_acc.reset()"
   ]
  },
  {
   "cell_type": "code",
   "execution_count": 11,
   "id": "a5b89781",
   "metadata": {},
   "outputs": [
    {
     "name": "stderr",
     "output_type": "stream",
     "text": [
      "GPU available: True (cuda), used: True\n",
      "TPU available: False, using: 0 TPU cores\n",
      "IPU available: False, using: 0 IPUs\n",
      "HPU available: False, using: 0 HPUs\n",
      "LOCAL_RANK: 0 - CUDA_VISIBLE_DEVICES: [0]\n"
     ]
    },
    {
     "data": {
      "application/vnd.jupyter.widget-view+json": {
       "model_id": "410d19e02a8c43e2b07041e4c27716d8",
       "version_major": 2,
       "version_minor": 0
      },
      "text/plain": [
       "Testing: |                                                                                       | 0/? [00:00<…"
      ]
     },
     "metadata": {},
     "output_type": "display_data"
    },
    {
     "data": {
      "text/html": [
       "<pre style=\"white-space:pre;overflow-x:auto;line-height:normal;font-family:Menlo,'DejaVu Sans Mono',consolas,'Courier New',monospace\">┏━━━━━━━━━━━━━━━━━━━━━━━━━━━┳━━━━━━━━━━━━━━━━━━━━━━━━━━━┓\n",
       "┃<span style=\"font-weight: bold\">        Test metric        </span>┃<span style=\"font-weight: bold\">       DataLoader 0        </span>┃\n",
       "┡━━━━━━━━━━━━━━━━━━━━━━━━━━━╇━━━━━━━━━━━━━━━━━━━━━━━━━━━┩\n",
       "│<span style=\"color: #008080; text-decoration-color: #008080\">         Acc/test          </span>│<span style=\"color: #800080; text-decoration-color: #800080\">    0.6649275422096252     </span>│\n",
       "└───────────────────────────┴───────────────────────────┘\n",
       "</pre>\n"
      ],
      "text/plain": [
       "┏━━━━━━━━━━━━━━━━━━━━━━━━━━━┳━━━━━━━━━━━━━━━━━━━━━━━━━━━┓\n",
       "┃\u001b[1m \u001b[0m\u001b[1m       Test metric       \u001b[0m\u001b[1m \u001b[0m┃\u001b[1m \u001b[0m\u001b[1m      DataLoader 0       \u001b[0m\u001b[1m \u001b[0m┃\n",
       "┡━━━━━━━━━━━━━━━━━━━━━━━━━━━╇━━━━━━━━━━━━━━━━━━━━━━━━━━━┩\n",
       "│\u001b[36m \u001b[0m\u001b[36m        Acc/test         \u001b[0m\u001b[36m \u001b[0m│\u001b[35m \u001b[0m\u001b[35m   0.6649275422096252    \u001b[0m\u001b[35m \u001b[0m│\n",
       "└───────────────────────────┴───────────────────────────┘\n"
      ]
     },
     "metadata": {},
     "output_type": "display_data"
    }
   ],
   "source": [
    "pl_roseLora_model = LModelRoseLora(roseLora_model)\n",
    "trainer = create_trainer(\"BERT_roselora\", max_epochs = max_epochs)\n",
    "trainer.test(pl_roseLora_model, dataloaders = test_dataloader);"
   ]
  },
  {
   "cell_type": "code",
   "execution_count": null,
   "id": "9d819f5e",
   "metadata": {},
   "outputs": [
    {
     "name": "stderr",
     "output_type": "stream",
     "text": [
      "LOCAL_RANK: 0 - CUDA_VISIBLE_DEVICES: [0]\n",
      "\n",
      "  | Name      | Type           | Params\n",
      "---------------------------------------------\n",
      "0 | model     | RoseLoraModel  | 109 M \n",
      "1 | train_acc | BinaryAccuracy | 0     \n",
      "2 | valid_acc | BinaryAccuracy | 0     \n",
      "3 | test_acc  | BinaryAccuracy | 0     \n",
      "---------------------------------------------\n",
      "368 K     Trainable params\n",
      "109 M     Non-trainable params\n",
      "109 M     Total params\n",
      "439.410   Total estimated model params size (MB)\n"
     ]
    },
    {
     "data": {
      "application/vnd.jupyter.widget-view+json": {
       "model_id": "",
       "version_major": 2,
       "version_minor": 0
      },
      "text/plain": [
       "Sanity Checking: |                                                                               | 0/? [00:00<…"
      ]
     },
     "metadata": {},
     "output_type": "display_data"
    },
    {
     "data": {
      "application/vnd.jupyter.widget-view+json": {
       "model_id": "e09517d88a104d55b19ecc7ba6ede2f4",
       "version_major": 2,
       "version_minor": 0
      },
      "text/plain": [
       "Training: |                                                                                      | 0/? [00:00<…"
      ]
     },
     "metadata": {},
     "output_type": "display_data"
    },
    {
     "data": {
      "application/vnd.jupyter.widget-view+json": {
       "model_id": "",
       "version_major": 2,
       "version_minor": 0
      },
      "text/plain": [
       "Validation: |                                                                                    | 0/? [00:00<…"
      ]
     },
     "metadata": {},
     "output_type": "display_data"
    },
    {
     "data": {
      "application/vnd.jupyter.widget-view+json": {
       "model_id": "",
       "version_major": 2,
       "version_minor": 0
      },
      "text/plain": [
       "Validation: |                                                                                    | 0/? [00:00<…"
      ]
     },
     "metadata": {},
     "output_type": "display_data"
    },
    {
     "data": {
      "application/vnd.jupyter.widget-view+json": {
       "model_id": "",
       "version_major": 2,
       "version_minor": 0
      },
      "text/plain": [
       "Validation: |                                                                                    | 0/? [00:00<…"
      ]
     },
     "metadata": {},
     "output_type": "display_data"
    },
    {
     "data": {
      "application/vnd.jupyter.widget-view+json": {
       "model_id": "",
       "version_major": 2,
       "version_minor": 0
      },
      "text/plain": [
       "Validation: |                                                                                    | 0/? [00:00<…"
      ]
     },
     "metadata": {},
     "output_type": "display_data"
    }
   ],
   "source": [
    "trainer.fit(\n",
    "    model=pl_roseLora_model,\n",
    "    train_dataloaders=train_dataloader,\n",
    "    val_dataloaders=val_dataloader\n",
    ")"
   ]
  },
  {
   "cell_type": "code",
   "execution_count": 27,
   "id": "58817ae5",
   "metadata": {},
   "outputs": [
    {
     "name": "stderr",
     "output_type": "stream",
     "text": [
      "LOCAL_RANK: 0 - CUDA_VISIBLE_DEVICES: [0]\n"
     ]
    },
    {
     "data": {
      "application/vnd.jupyter.widget-view+json": {
       "model_id": "bf2be7424f524739961427f42d0940f8",
       "version_major": 2,
       "version_minor": 0
      },
      "text/plain": [
       "Testing: |          | 0/? [00:00<?, ?it/s]"
      ]
     },
     "metadata": {},
     "output_type": "display_data"
    },
    {
     "data": {
      "text/html": [
       "<pre style=\"white-space:pre;overflow-x:auto;line-height:normal;font-family:Menlo,'DejaVu Sans Mono',consolas,'Courier New',monospace\">┏━━━━━━━━━━━━━━━━━━━━━━━━━━━┳━━━━━━━━━━━━━━━━━━━━━━━━━━━┓\n",
       "┃<span style=\"font-weight: bold\">        Test metric        </span>┃<span style=\"font-weight: bold\">       DataLoader 0        </span>┃\n",
       "┡━━━━━━━━━━━━━━━━━━━━━━━━━━━╇━━━━━━━━━━━━━━━━━━━━━━━━━━━┩\n",
       "│<span style=\"color: #008080; text-decoration-color: #008080\">         Acc/test          </span>│<span style=\"color: #800080; text-decoration-color: #800080\">    0.8156521916389465     </span>│\n",
       "└───────────────────────────┴───────────────────────────┘\n",
       "</pre>\n"
      ],
      "text/plain": [
       "┏━━━━━━━━━━━━━━━━━━━━━━━━━━━┳━━━━━━━━━━━━━━━━━━━━━━━━━━━┓\n",
       "┃\u001b[1m \u001b[0m\u001b[1m       Test metric       \u001b[0m\u001b[1m \u001b[0m┃\u001b[1m \u001b[0m\u001b[1m      DataLoader 0       \u001b[0m\u001b[1m \u001b[0m┃\n",
       "┡━━━━━━━━━━━━━━━━━━━━━━━━━━━╇━━━━━━━━━━━━━━━━━━━━━━━━━━━┩\n",
       "│\u001b[36m \u001b[0m\u001b[36m        Acc/test         \u001b[0m\u001b[36m \u001b[0m│\u001b[35m \u001b[0m\u001b[35m   0.8156521916389465    \u001b[0m\u001b[35m \u001b[0m│\n",
       "└───────────────────────────┴───────────────────────────┘\n"
      ]
     },
     "metadata": {},
     "output_type": "display_data"
    }
   ],
   "source": [
    "trainer.test(pl_roseLora_model, dataloaders = test_dataloader);"
   ]
  },
  {
   "cell_type": "markdown",
   "id": "a8a54052-89e9-4117-bbfd-4eef3dc72937",
   "metadata": {},
   "source": [
    "# Графики"
   ]
  },
  {
   "cell_type": "code",
   "execution_count": 79,
   "id": "72789714",
   "metadata": {},
   "outputs": [
    {
     "data": {
      "image/png": "[encoded data removed]",
      "text/plain": [
       "<Figure size 1152x720 with 3 Axes>"
      ]
     },
     "metadata": {
      "needs_background": "light"
     },
     "output_type": "display_data"
    }
   ],
   "source": [
    "metrics = pd.read_csv('logs/BERT_roselora/version_0/metrics.csv')\n",
    "metrics_ada = pd.read_csv('logs/BERT_adalora/version_1/metrics.csv')\n",
    "metrics_base = pd.read_csv('logs/BERT_lora/version_0/metrics.csv')\n",
    "fig, ax = plt.subplots(3,figsize = (16,10))\n",
    "ax[2].plot(metrics['loss/train'][metrics['loss/train'].notna()])\n",
    "ax[0].plot(metrics_base['loss/train'][metrics_base['loss/train'].notna()])\n",
    "ax[1].plot(metrics_ada['loss/train'][metrics_ada['loss/train'].notna()])\n",
    "plt.show()"
   ]
  },
  {
   "cell_type": "code",
   "execution_count": 81,
   "id": "09a7ed9d",
   "metadata": {},
   "outputs": [],
   "source": [
    "import re\n",
    "def sort_human(l):\n",
    "    convert = lambda text: float(text) if text.isdigit() else text\n",
    "    alphanum = lambda key: [float(c) for c in re.findall('([+-]?\\d+\\.?\\d*)', key)]\n",
    "    l.sort(key=alphanum)\n",
    "    return l"
   ]
  },
  {
   "cell_type": "code",
   "execution_count": 82,
   "id": "e883c3d0",
   "metadata": {},
   "outputs": [
    {
     "name": "stdout",
     "output_type": "stream",
     "text": [
      "['Plots/it_0.png', 'Plots/it_10.png', 'Plots/it_20.png', 'Plots/it_30.png', 'Plots/it_40.png', 'Plots/it_50.png', 'Plots/it_60.png', 'Plots/it_70.png', 'Plots/it_80.png', 'Plots/it_90.png', 'Plots/it_100.png', 'Plots/it_110.png', 'Plots/it_120.png', 'Plots/it_130.png', 'Plots/it_140.png', 'Plots/it_150.png', 'Plots/it_160.png', 'Plots/it_170.png', 'Plots/it_180.png', 'Plots/it_190.png', 'Plots/it_200.png', 'Plots/it_210.png', 'Plots/it_220.png', 'Plots/it_230.png', 'Plots/it_240.png', 'Plots/it_250.png', 'Plots/it_260.png', 'Plots/it_270.png', 'Plots/it_280.png', 'Plots/it_290.png', 'Plots/it_300.png', 'Plots/it_310.png', 'Plots/it_320.png', 'Plots/it_330.png', 'Plots/it_340.png', 'Plots/it_350.png', 'Plots/it_360.png', 'Plots/it_370.png', 'Plots/it_380.png', 'Plots/it_390.png', 'Plots/it_400.png', 'Plots/it_410.png', 'Plots/it_420.png', 'Plots/it_430.png', 'Plots/it_440.png', 'Plots/it_450.png', 'Plots/it_460.png', 'Plots/it_470.png', 'Plots/it_480.png', 'Plots/it_490.png', 'Plots/it_500.png', 'Plots/it_510.png', 'Plots/it_520.png', 'Plots/it_530.png', 'Plots/it_540.png', 'Plots/it_550.png', 'Plots/it_560.png', 'Plots/it_570.png', 'Plots/it_580.png', 'Plots/it_590.png', 'Plots/it_600.png', 'Plots/it_610.png', 'Plots/it_620.png', 'Plots/it_630.png', 'Plots/it_640.png', 'Plots/it_650.png', 'Plots/it_660.png', 'Plots/it_670.png', 'Plots/it_680.png', 'Plots/it_690.png', 'Plots/it_700.png', 'Plots/it_710.png', 'Plots/it_720.png', 'Plots/it_730.png', 'Plots/it_740.png', 'Plots/it_750.png', 'Plots/it_760.png', 'Plots/it_770.png', 'Plots/it_780.png', 'Plots/it_790.png', 'Plots/it_800.png', 'Plots/it_810.png', 'Plots/it_820.png', 'Plots/it_830.png', 'Plots/it_840.png', 'Plots/it_850.png', 'Plots/it_860.png', 'Plots/it_870.png', 'Plots/it_880.png', 'Plots/it_890.png', 'Plots/it_900.png', 'Plots/it_910.png', 'Plots/it_920.png', 'Plots/it_930.png', 'Plots/it_940.png', 'Plots/it_950.png', 'Plots/it_960.png', 'Plots/it_970.png', 'Plots/it_980.png', 'Plots/it_990.png', 'Plots/it_1000.png', 'Plots/it_1010.png', 'Plots/it_1020.png', 'Plots/it_1030.png', 'Plots/it_1040.png', 'Plots/it_1050.png', 'Plots/it_1060.png', 'Plots/it_1070.png', 'Plots/it_1080.png', 'Plots/it_1090.png', 'Plots/it_1100.png', 'Plots/it_1110.png', 'Plots/it_1120.png', 'Plots/it_1130.png', 'Plots/it_1140.png', 'Plots/it_1150.png', 'Plots/it_1160.png', 'Plots/it_1170.png', 'Plots/it_1180.png', 'Plots/it_1190.png', 'Plots/it_1200.png', 'Plots/it_1210.png', 'Plots/it_1220.png', 'Plots/it_1230.png', 'Plots/it_1240.png', 'Plots/it_1250.png', 'Plots/it_1260.png', 'Plots/it_1270.png', 'Plots/it_1280.png', 'Plots/it_1290.png', 'Plots/it_1300.png', 'Plots/it_1310.png', 'Plots/it_1320.png', 'Plots/it_1330.png', 'Plots/it_1340.png', 'Plots/it_1350.png', 'Plots/it_1360.png', 'Plots/it_1370.png', 'Plots/it_1380.png', 'Plots/it_1390.png', 'Plots/it_1400.png', 'Plots/it_1410.png', 'Plots/it_1420.png', 'Plots/it_1430.png', 'Plots/it_1440.png', 'Plots/it_1450.png', 'Plots/it_1460.png', 'Plots/it_1470.png', 'Plots/it_1480.png', 'Plots/it_1490.png', 'Plots/it_1500.png', 'Plots/it_1510.png', 'Plots/it_1520.png', 'Plots/it_1530.png', 'Plots/it_1540.png', 'Plots/it_1550.png', 'Plots/it_1560.png', 'Plots/it_1570.png', 'Plots/it_1580.png', 'Plots/it_1590.png', 'Plots/it_1600.png', 'Plots/it_1610.png', 'Plots/it_1620.png', 'Plots/it_1630.png', 'Plots/it_1640.png', 'Plots/it_1650.png', 'Plots/it_1660.png', 'Plots/it_1670.png', 'Plots/it_1680.png', 'Plots/it_1690.png', 'Plots/it_1700.png', 'Plots/it_1710.png', 'Plots/it_1720.png']\n"
     ]
    }
   ],
   "source": [
    "from PIL import Image\n",
    "import glob\n",
    "\n",
    "paths = glob.glob('Plots/it_*')\n",
    "paths = sort_human(paths)\n",
    "# Список для хранения кадров.\n",
    "frames = []\n",
    " \n",
    "for frame_path in paths:\n",
    "    # Открываем изображение каждого кадра.\n",
    "    frame = Image.open(frame_path)\n",
    "    # Добавляем кадр в список с кадрами.\n",
    "    frames.append(frame)\n",
    " \n",
    "# Берем первый кадр и в него добавляем оставшееся кадры.\n",
    "frames[0].save(\n",
    "    'sparsity.gif',\n",
    "    save_all=True,\n",
    "    append_images=frames[1:],  # Срез который игнорирует первый кадр.\n",
    "    optimize=True,\n",
    "    duration=500,\n",
    "    loop=0\n",
    ")"
   ]
  }
 ],
 "metadata": {
  "@webio": {
   "lastCommId": null,
   "lastKernelId": null
  },
  "kernelspec": {
   "display_name": "Python 3 (ipykernel)",
   "language": "python",
   "name": "python3"
  },
  "language_info": {
   "codemirror_mode": {
    "name": "ipython",
    "version": 3
   },
   "file_extension": ".py",
   "mimetype": "text/x-python",
   "name": "python",
   "nbconvert_exporter": "python",
   "pygments_lexer": "ipython3",
   "version": "3.10.11"
  }
 },
 "nbformat": 4,
 "nbformat_minor": 5
}
